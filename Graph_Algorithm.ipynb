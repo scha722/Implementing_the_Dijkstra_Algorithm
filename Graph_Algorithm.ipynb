{
 "cells": [
  {
   "cell_type": "markdown",
   "id": "a056dd0e-e4dc-4b2e-bf8d-d900e3d12e2a",
   "metadata": {},
   "source": [
    "# Import Libraries"
   ]
  },
  {
   "cell_type": "code",
   "execution_count": 56,
   "id": "73412e3f-e91d-49fd-b7d0-1c96f9a1c7bc",
   "metadata": {},
   "outputs": [],
   "source": [
    "import pandas as pd\n",
    "import numpy as np\n",
    "import matplotlib.pyplot as plt\n",
    "\n",
    "import math\n",
    "\n",
    "import os"
   ]
  },
  {
   "cell_type": "markdown",
   "id": "1b3083a6-2880-44a7-a44f-c93337972e16",
   "metadata": {},
   "source": [
    "# Read Datafile"
   ]
  },
  {
   "cell_type": "code",
   "execution_count": 2,
   "id": "c30092d9-a158-4281-ad6e-b2864b229ae8",
   "metadata": {},
   "outputs": [
    {
     "data": {
      "text/html": [
       "<div>\n",
       "<style scoped>\n",
       "    .dataframe tbody tr th:only-of-type {\n",
       "        vertical-align: middle;\n",
       "    }\n",
       "\n",
       "    .dataframe tbody tr th {\n",
       "        vertical-align: top;\n",
       "    }\n",
       "\n",
       "    .dataframe thead th {\n",
       "        text-align: right;\n",
       "    }\n",
       "</style>\n",
       "<table border=\"1\" class=\"dataframe\">\n",
       "  <thead>\n",
       "    <tr style=\"text-align: right;\">\n",
       "      <th></th>\n",
       "      <th>Name</th>\n",
       "      <th>Type</th>\n",
       "      <th>IATA</th>\n",
       "      <th>ICAO</th>\n",
       "      <th>Longitude (deg)</th>\n",
       "      <th>Latitude (deg)</th>\n",
       "    </tr>\n",
       "  </thead>\n",
       "  <tbody>\n",
       "    <tr>\n",
       "      <th>0</th>\n",
       "      <td>Incheon</td>\n",
       "      <td>International</td>\n",
       "      <td>ICN</td>\n",
       "      <td>RKSI</td>\n",
       "      <td>126.4498</td>\n",
       "      <td>37.4465</td>\n",
       "    </tr>\n",
       "    <tr>\n",
       "      <th>1</th>\n",
       "      <td>Jeju</td>\n",
       "      <td>International</td>\n",
       "      <td>CJU</td>\n",
       "      <td>RKPC</td>\n",
       "      <td>126.4928</td>\n",
       "      <td>33.5111</td>\n",
       "    </tr>\n",
       "    <tr>\n",
       "      <th>2</th>\n",
       "      <td>Cheongju</td>\n",
       "      <td>International</td>\n",
       "      <td>CJJ</td>\n",
       "      <td>RKTU</td>\n",
       "      <td>127.4989</td>\n",
       "      <td>36.7164</td>\n",
       "    </tr>\n",
       "    <tr>\n",
       "      <th>3</th>\n",
       "      <td>Yangyang</td>\n",
       "      <td>International</td>\n",
       "      <td>YNY</td>\n",
       "      <td>RKNY</td>\n",
       "      <td>128.6689</td>\n",
       "      <td>38.0611</td>\n",
       "    </tr>\n",
       "    <tr>\n",
       "      <th>4</th>\n",
       "      <td>Pohang</td>\n",
       "      <td>Domestic</td>\n",
       "      <td>KPO</td>\n",
       "      <td>RKTH</td>\n",
       "      <td>129.4205</td>\n",
       "      <td>35.9879</td>\n",
       "    </tr>\n",
       "    <tr>\n",
       "      <th>5</th>\n",
       "      <td>Gimhae</td>\n",
       "      <td>International</td>\n",
       "      <td>PUS</td>\n",
       "      <td>RKPK</td>\n",
       "      <td>128.9381</td>\n",
       "      <td>35.1794</td>\n",
       "    </tr>\n",
       "  </tbody>\n",
       "</table>\n",
       "</div>"
      ],
      "text/plain": [
       "       Name           Type IATA  ICAO  Longitude (deg)  Latitude (deg)\n",
       "0   Incheon  International  ICN  RKSI         126.4498         37.4465\n",
       "1      Jeju  International  CJU  RKPC         126.4928         33.5111\n",
       "2  Cheongju  International  CJJ  RKTU         127.4989         36.7164\n",
       "3  Yangyang  International  YNY  RKNY         128.6689         38.0611\n",
       "4    Pohang       Domestic  KPO  RKTH         129.4205         35.9879\n",
       "5    Gimhae  International  PUS  RKPK         128.9381         35.1794"
      ]
     },
     "execution_count": 2,
     "metadata": {},
     "output_type": "execute_result"
    }
   ],
   "source": [
    "data = pd.read_csv('South_Korea_airport_toy_example.csv')\n",
    "data"
   ]
  },
  {
   "cell_type": "markdown",
   "id": "4e4b6db8-4e47-4378-9fa2-3730ed9e9af6",
   "metadata": {},
   "source": [
    "# Define Haversine"
   ]
  },
  {
   "cell_type": "code",
   "execution_count": 3,
   "id": "6e72b11b-17ee-4656-b5ea-367973f1e0a2",
   "metadata": {},
   "outputs": [],
   "source": [
    "from math import radians, sin, cos, asin, sqrt\n",
    "def haversine(lon1, lat1, lon2, lat2):\n",
    "    lon1, lat1, lon2, lat2 = map(radians, [lon1, lat1, lon2, lat2])\n",
    "    dlon = lon2 - lon1\n",
    "    dlat = lat2 - lat1\n",
    "    a = sin(dlat / 2) ** 2 + cos(lat1) * cos(lat2) * sin(dlon / 2) ** 2\n",
    "    return 2 * 6371 * asin(sqrt(a))"
   ]
  },
  {
   "cell_type": "markdown",
   "id": "d57f57ba-81fe-4112-b9c8-db0a4be0c62a",
   "metadata": {},
   "source": [
    "# Define Coordinates and Edges "
   ]
  },
  {
   "cell_type": "code",
   "execution_count": 4,
   "id": "f28b46f5-ba01-4ebb-b268-ee4d201509ed",
   "metadata": {},
   "outputs": [],
   "source": [
    "#polygon list\n",
    "polygon = [(128.7, 36.6), (128.7, 37.6), (129.3, 37.6), (129.3, 36.6)]\n",
    "\n",
    "#add the first element to the end for polygon plot\n",
    "polygon = polygon + [polygon[0]]\n",
    "\n",
    "#create a dictionary of edges (duplicates included)\n",
    "airport_dict = {0: [1,2,3],\n",
    "                1: [0,2,5],\n",
    "                2: [0,1,4,5],\n",
    "                3: [0,4],\n",
    "                4: [2,3,5],\n",
    "                5: [1,2,4]}\n",
    "\n",
    "#remove duplicates in 'airport_dict' to create a edge list (x,y)\n",
    "airport_edge = []\n",
    "for k,v in airport_dict.items():\n",
    "    for vi in v:\n",
    "        if (k,vi) not in airport_edge and (vi, k) not in airport_edge:\n",
    "            airport_edge.append((k,vi))"
   ]
  },
  {
   "cell_type": "code",
   "execution_count": 5,
   "id": "d4390dfa-fa6e-4f76-8610-549fad5734ec",
   "metadata": {},
   "outputs": [],
   "source": [
    "xi = [xi for xi,xj in airport_edge] #list of xi nodes\n",
    "xj = [xj for xi,xj in airport_edge] #list of xj nodes"
   ]
  },
  {
   "cell_type": "markdown",
   "id": "df49db6b-24b5-4e8a-a74f-aba8f278c84f",
   "metadata": {},
   "source": [
    "# Plot Graph"
   ]
  },
  {
   "cell_type": "code",
   "execution_count": 76,
   "id": "60903f09-f6d3-438c-990a-b9a0f6b65fe1",
   "metadata": {},
   "outputs": [
    {
     "data": {
      "image/png": "[encoded data removed]",
      "text/plain": [
       "<Figure size 500x500 with 1 Axes>"
      ]
     },
     "metadata": {},
     "output_type": "display_data"
    }
   ],
   "source": [
    "plt.figure(figsize = (5,5))\n",
    "for n1, n2 in zip(xi,xj):\n",
    "    plt.plot([data.iloc[n1, -2],data.iloc[n2, -2]], [data.iloc[n1,-1],data.iloc[n2,-1]], '-.', c = 'blue')\n",
    "\n",
    "x_shift = -0.02 #longitudinal shift of annotations\n",
    "y_shift = 0.05 #latitudinal shift of annotations\n",
    "\n",
    "#scatter plot of cities with annotations\n",
    "for i in range(len(data.index)):\n",
    "    x_coord = data.iloc[i, -2]\n",
    "    y_coord = data.iloc[i, -1]\n",
    "    plt.scatter(x_coord, y_coord)\n",
    "    plt.annotate(i, (x_coord + x_shift, y_coord + y_shift))\n",
    "    \n",
    "plt.plot([x for x,y in polygon], [y for x,y in polygon], '--', c = 'red')\n",
    "plt.show()"
   ]
  },
  {
   "cell_type": "markdown",
   "id": "b7077144-5ded-4e76-8c81-8218264c1a0c",
   "metadata": {},
   "source": [
    "# Define Graph Class [1]"
   ]
  },
  {
   "cell_type": "code",
   "execution_count": 7,
   "id": "d48b726f-023c-4e18-b58f-3326f92381d5",
   "metadata": {},
   "outputs": [],
   "source": [
    "class Graph:\n",
    "    def __init__(self, num_of_nodes, directed=True):\n",
    "        self.m_num_of_nodes = num_of_nodes\n",
    "        self.m_nodes = range(self.m_num_of_nodes)\n",
    "\n",
    "        # Define the type of a graph\n",
    "        self.m_directed = directed\n",
    "\n",
    "        self.m_adj_list = {node: set() for node in self.m_nodes}      \n",
    "\n",
    "    def add_edge(self, node1, node2, weight=1):\n",
    "        self.m_adj_list[node1].add((node2, weight))\n",
    "        \n",
    "        if not self.m_directed:\n",
    "            self.m_adj_list[node2].add((node1, weight))\n",
    "\n",
    "    def print_adj_list(self):\n",
    "        for key in self.m_adj_list.keys():\n",
    "            print(\"node\", key, \": \", self.m_adj_list[key])"
   ]
  },
  {
   "cell_type": "markdown",
   "id": "935415e6-6752-4941-af62-6b81906eee57",
   "metadata": {
    "tags": []
   },
   "source": [
    "## Pseudocode:\n",
    "\n",
    "    ############################  Initial Setup  #################################\n",
    "    \n",
    "    note to the users: \n",
    "    \n",
    "    parent node: node we are exploring\n",
    "    child node: all the nodes connected to the parent node\n",
    "    \n",
    "    1. Initialize parent as the start location (e.g. parent node = 1)\n",
    "    \n",
    "    2. initialize distance of each node except the start as a large number (e.g. 10^9)\n",
    "    \n",
    "    3. Create an empty list to store visited nodes (e.g. visited_node = []) \n",
    "    \n",
    "    ############################### Algorithm #####################################\n",
    "    \n",
    "    Iterate while (number of visited nodes) < (total number of nodes)\n",
    "\n",
    "        Iterate for each edge connected to parent:\n",
    "\n",
    "            if previous child_node.weight > edge.weight + parent_node.weight\n",
    "\n",
    "                child_node.weight = edge.weight + parent_node.weight\n",
    "                \n",
    "                update path_dictionary\n",
    "                \n",
    "        append parent to 'visited_node' list\n",
    "\n",
    "\n",
    "        update parent node: select node with the lowest weight AND has not been visited\n",
    "        \n",
    "    return path_dictionary\n",
    "    \n",
    "    ############################### Print Path ######################################\n",
    "    \n",
    "    (note to the readers: start = 1, end = 3 in our context)\n",
    "    \n",
    "    initialize: node = end (or destination; e.g., node = 3)\n",
    "    \n",
    "    create an empty list called 'final_path' (e.g. final_path = [])\n",
    "    \n",
    "    iterate while node != start\n",
    "        \n",
    "        find 'key' which contains 'node' in its 'value'\n",
    "        \n",
    "        append key to final path (e.g., final_path.append(key))\n",
    "    \n",
    "        update node = key\n",
    "    "
   ]
  },
  {
   "cell_type": "markdown",
   "id": "ef0b61d7-a78c-4812-a9c6-59033b8fce3c",
   "metadata": {},
   "source": [
    "# Dijkstra Algorithm"
   ]
  },
  {
   "cell_type": "code",
   "execution_count": 34,
   "id": "0a5a4a25-16d8-44e5-9da9-076812303a4f",
   "metadata": {},
   "outputs": [],
   "source": [
    "parent_node = 1 #start from node number 1\n",
    "\n",
    "def Dijkstra(airport_graph, parent_node = parent_node):\n",
    "\n",
    "    visited_node = [parent_node] #list of visited nodes\n",
    "\n",
    "    dist_dict = {} #create distance dictionary\n",
    "    path_dict = {} #create path dictionary\n",
    "    infin = 10**9 #assign a very large value to the 'infin' variable\n",
    "\n",
    "    #initialize distance dictionary (dist_dict) and path dictionary (path_dict)\n",
    "    for key in airport_graph.m_adj_list.keys():\n",
    "        dist_dict[key] = infin #all distances to infinity\n",
    "        path_dict[key] = [] #initialize path dictionary\n",
    "    dist_dict[parent_node] = 0 #parent node distance is 0\n",
    "\n",
    "    #iterate while the number of visited nodes is less than the total number of nodes\n",
    "    while len(visited_node) < len(airport_graph.m_adj_list):\n",
    "        #visit all child nodes for a given parent node\n",
    "        for child_node in airport_graph.m_adj_list[parent_node]:\n",
    "\n",
    "            child_node_num = child_node[0] #child node number\n",
    "            child_edge_weight = child_node[1] #edge weight between parent and child node\n",
    "\n",
    "            #if the sum of the parent node and the edge is greater than the child node,\n",
    "            #update the child node\n",
    "            if dist_dict[child_node_num] > child_edge_weight + dist_dict[parent_node]:\n",
    "                dist_dict[child_node_num] = child_edge_weight + dist_dict[parent_node]\n",
    "\n",
    "                #check for duplicates before updating path dictionary\n",
    "                if child_node_num in sum(list(path_dict.values()), []):\n",
    "                    for i, values in enumerate(path_dict.values()):\n",
    "                        #if duplicate exists, elimiate duplicate\n",
    "                        if child_node_num in values:\n",
    "                            path_dict[i] = [j for j in path_dict[i] if j != child_node_num]\n",
    "                #update path \n",
    "                path_dict[parent_node].append(child_node_num)\n",
    "            #sort distance dictionary in ascending order of distance\n",
    "            dist_dict = dict(sorted(dist_dict.items(), key = lambda x: x[1]))\n",
    "\n",
    "        #if all child node visited, add parent node to visited node list\n",
    "        if parent_node not in visited_node:\n",
    "            visited_node.append(parent_node)\n",
    "\n",
    "        #if all child node visited, go to next parent node\n",
    "        for key in dist_dict.keys():\n",
    "            if key not in visited_node:\n",
    "                parent_node = key\n",
    "                break\n",
    "    return dist_dict, path_dict"
   ]
  },
  {
   "cell_type": "markdown",
   "id": "621e0c90-c702-4ff8-a115-3909b55262c1",
   "metadata": {},
   "source": [
    "# Graph Weight Update (Unconstrained)"
   ]
  },
  {
   "cell_type": "code",
   "execution_count": 35,
   "id": "3ae498e0-f345-4260-80d5-308018e78ebe",
   "metadata": {},
   "outputs": [
    {
     "name": "stdout",
     "output_type": "stream",
     "text": [
      "node 0 :  {(2, 123.5), (1, 437.61), (3, 206.71)}\n",
      "node 1 :  {(2, 367.97), (0, 437.61), (5, 291.21)}\n",
      "node 2 :  {(4, 190.2), (5, 214.45), (1, 367.97), (0, 123.5)}\n",
      "node 3 :  {(4, 239.99), (0, 206.71)}\n",
      "node 4 :  {(5, 99.93), (2, 190.2), (3, 239.99)}\n",
      "node 5 :  {(1, 291.21), (2, 214.45), (4, 99.93)}\n"
     ]
    }
   ],
   "source": [
    "airport_graph = Graph(num_of_nodes = 6) #define a graph object of six nodes\n",
    "\n",
    "latitude_str = 'Latitude (deg)' #latitude string (column name)\n",
    "longitude_str = 'Longitude (deg)' #longitude string (column name)\n",
    "\n",
    "for key in airport_dict.keys(): #iterate for each keys\n",
    "    for value in airport_dict[key]: #iterate for each values in key\n",
    "        lat1 = data.iloc[key][latitude_str] #latitude of first node\n",
    "        lon1 = data.iloc[key][longitude_str] #longitude of first node\n",
    "        lat2 = data.iloc[value][latitude_str] #latitude of second node\n",
    "        lon2 = data.iloc[value][longitude_str] #longitude of second node\n",
    "        \n",
    "        #calculate weight\n",
    "        weight = np.round(haversine(lon1, lat1, lon2, lat2), 2) \n",
    "        #update weights\n",
    "        airport_graph.add_edge(key, value, weight = weight)\n",
    "\n",
    "#print graph        \n",
    "airport_graph.print_adj_list()"
   ]
  },
  {
   "cell_type": "code",
   "execution_count": 29,
   "id": "e0538be7-4f2a-4c7b-b87d-f34b0dcb8c55",
   "metadata": {},
   "outputs": [
    {
     "data": {
      "text/plain": [
       "{0: 1000000000,\n",
       " 1: 0,\n",
       " 2: 1000000000,\n",
       " 3: 1000000000,\n",
       " 4: 1000000000,\n",
       " 5: 1000000000}"
      ]
     },
     "execution_count": 29,
     "metadata": {},
     "output_type": "execute_result"
    }
   ],
   "source": [
    "start_node = 1\n",
    "visited_node = [start_node]\n",
    "\n",
    "dist_dict = {}\n",
    "infin = 10**9\n",
    "\n",
    "for node in airport_graph.m_adj_list.keys():\n",
    "    dist_dict[node] = infin\n",
    "dist_dict[start_node] = 0\n",
    "dist_dict"
   ]
  },
  {
   "cell_type": "code",
   "execution_count": 36,
   "id": "841f0672-4182-4890-b427-aeefc53654d4",
   "metadata": {},
   "outputs": [],
   "source": [
    "dist_dict, path_dict = Dijkstra(airport_graph, parent_node = 1)"
   ]
  },
  {
   "cell_type": "code",
   "execution_count": 37,
   "id": "93c985c0-266b-49cb-a35d-417cb3654bb7",
   "metadata": {},
   "outputs": [
    {
     "data": {
      "text/plain": [
       "{1: 0, 5: 291.21, 2: 367.97, 4: 391.14, 0: 437.61, 3: 631.13}"
      ]
     },
     "execution_count": 37,
     "metadata": {},
     "output_type": "execute_result"
    }
   ],
   "source": [
    "#dictionary containing the shortest distances from the start node \n",
    "#start node is 1 in our example\n",
    "dist_dict"
   ]
  },
  {
   "cell_type": "code",
   "execution_count": 38,
   "id": "f49777b1-1b46-4994-8a3e-e5e6993e983c",
   "metadata": {},
   "outputs": [
    {
     "data": {
      "text/plain": [
       "{0: [], 1: [2, 0, 5], 2: [], 3: [], 4: [3], 5: [4]}"
      ]
     },
     "execution_count": 38,
     "metadata": {},
     "output_type": "execute_result"
    }
   ],
   "source": [
    "#dictionary containing all the shortest path edges from key -> value\n",
    "path_dict"
   ]
  },
  {
   "cell_type": "markdown",
   "id": "157ea773-897e-4cb3-a93c-278a28d04dea",
   "metadata": {},
   "source": [
    "# Find Shortest Path (Unconstrained)"
   ]
  },
  {
   "cell_type": "code",
   "execution_count": 39,
   "id": "3a169604-73c7-4c1e-88c7-e47ffbc161dc",
   "metadata": {},
   "outputs": [
    {
     "name": "stdout",
     "output_type": "stream",
     "text": [
      "Unconstrained Path: [1, 5, 4, 3]\n"
     ]
    }
   ],
   "source": [
    "start_node = 3 #destination node\n",
    "end_node = 1 #departing node\n",
    "\n",
    "unconstrained_path = [start_node] #initialize path\n",
    "node = start_node #start from 'start_node'\n",
    "\n",
    "#iterate whie search_node is not the end node\n",
    "while node != end_node:\n",
    "    for key, values in path_dict.items():\n",
    "        #if search node in values, append key to path\n",
    "        if node in path_dict[key]: \n",
    "            unconstrained_path.append(key)\n",
    "            node = key\n",
    "            \n",
    "unconstrained_path = unconstrained_path[::-1] #reverse path order\n",
    "print(\"Unconstrained Path:\", unconstrained_path)"
   ]
  },
  {
   "cell_type": "markdown",
   "id": "8b478c6f-dc63-4d7f-bb7c-9fcc6d05718a",
   "metadata": {},
   "source": [
    "# Graph Weight Update (Constrained) [2]"
   ]
  },
  {
   "cell_type": "code",
   "execution_count": 61,
   "id": "b420288e-d5c2-426c-8d04-cafb2cc960e7",
   "metadata": {},
   "outputs": [],
   "source": [
    "from shapely.geometry import Point\n",
    "from shapely.geometry.polygon import Polygon\n",
    "\n",
    "polygon = [(128.7, 36.6), (128.7, 37.6), (129.3, 37.6), (129.3, 36.6), (128.7, 36.6)]\n",
    "polygon = Polygon(polygon)"
   ]
  },
  {
   "cell_type": "code",
   "execution_count": 62,
   "id": "6d5e7c9c-401c-4b00-b94c-c7d94b5bea8d",
   "metadata": {},
   "outputs": [
    {
     "name": "stdout",
     "output_type": "stream",
     "text": [
      "node 0 :  {(2, 123.5), (1, 437.61), (3, 206.71)}\n",
      "node 1 :  {(2, 367.97), (0, 437.61), (5, 291.21)}\n",
      "node 2 :  {(4, 190.2), (5, 214.45), (1, 367.97), (0, 123.5)}\n",
      "node 3 :  {(4, 1000000000), (0, 206.71)}\n",
      "node 4 :  {(3, 1000000000), (5, 99.93), (2, 190.2)}\n",
      "node 5 :  {(1, 291.21), (2, 214.45), (4, 99.93)}\n"
     ]
    }
   ],
   "source": [
    "airport_graph = Graph(num_of_nodes = 6) #define a graph object of six nodes\n",
    "\n",
    "latitude_str = 'Latitude (deg)' #latitude string (column name)\n",
    "longitude_str = 'Longitude (deg)' #longitude string (column name)\n",
    "\n",
    "for key in airport_dict.keys():\n",
    "    for value in airport_dict[key]:\n",
    "        \n",
    "        lat1 = data.iloc[key][latitude_str] #latitude of first node\n",
    "        lon1 = data.iloc[key][longitude_str] #longitude of first node\n",
    "        lat2 = data.iloc[value][latitude_str] #latitude of second node\n",
    "        lon2 = data.iloc[value][longitude_str] #longitude of second node\n",
    "        \n",
    "        #create a list of latitude coordinates on the edge\n",
    "        lat_ls = np.linspace(lat1, lat2, 100)\n",
    "        #create a list of longitude coordinates on the edge\n",
    "        lon_ls = np.linspace(lon1, lon2, 100)\n",
    "        \n",
    "        #intialize condition. edge is not on the polygon\n",
    "        edge_in_polygon = False\n",
    "        \n",
    "        #iterate for each coordinate on the edge\n",
    "        for lon, lat in zip(lon_ls, lat_ls):\n",
    "            point = Point([(lon, lat)])\n",
    "            #if point goes through the polygon, 'edge_in_polygon = True'\n",
    "            if polygon.contains(point):\n",
    "                edge_in_polygon = True\n",
    "                break\n",
    "        \n",
    "        #if edge is in polygon: edge weight = a very large number (infinite weight)\n",
    "        if edge_in_polygon is True:\n",
    "            weight = infin\n",
    "        #if edge is not in polygon: edge weight is normal\n",
    "        else:\n",
    "            #calculate weight\n",
    "            weight = np.round(haversine(lon1, lat1, lon2, lat2), 2) \n",
    "        #update weights\n",
    "        airport_graph.add_edge(key, value, weight = weight)\n",
    "\n",
    "#print graph        \n",
    "airport_graph.print_adj_list()"
   ]
  },
  {
   "cell_type": "code",
   "execution_count": 42,
   "id": "af16c1ed-c03d-4eb5-bd8c-ad142a83af44",
   "metadata": {},
   "outputs": [
    {
     "data": {
      "text/plain": [
       "({1: 0, 5: 291.21, 2: 367.97, 4: 391.14, 0: 437.61, 3: 644.32},\n",
       " {0: [3], 1: [2, 0, 5], 2: [], 3: [], 4: [], 5: [4]})"
      ]
     },
     "execution_count": 42,
     "metadata": {},
     "output_type": "execute_result"
    }
   ],
   "source": [
    "#get distance and path dictionary\n",
    "dist_dict, path_dict = Dijkstra(airport_graph, parent_node = 1)\n",
    "dist_dict, path_dict"
   ]
  },
  {
   "cell_type": "code",
   "execution_count": 43,
   "id": "72c0b2ac-8b5a-4a8c-8d31-cad43fc1bc28",
   "metadata": {},
   "outputs": [
    {
     "name": "stdout",
     "output_type": "stream",
     "text": [
      "Constrained Path: [1, 0, 3]\n"
     ]
    }
   ],
   "source": [
    "start_node = 3 #destination node\n",
    "end_node = 1 #departing node\n",
    "\n",
    "constrained_path = [start_node] #initialize path\n",
    "node = start_node #start from 'start_node'\n",
    "\n",
    "#iterate whie search_node is not the end node\n",
    "while node != end_node:\n",
    "    for key, values in path_dict.items():\n",
    "        #if search node in values, append key to path\n",
    "        if node in path_dict[key]: \n",
    "            constrained_path.append(key)\n",
    "            node = key\n",
    "            \n",
    "constrained_path = constrained_path[::-1] #reverse path order\n",
    "print('Constrained Path:',constrained_path)"
   ]
  },
  {
   "cell_type": "markdown",
   "id": "22e08c5b-91f4-49be-b449-853fd15f0a49",
   "metadata": {},
   "source": [
    "# Unconstrained Path Plot"
   ]
  },
  {
   "cell_type": "code",
   "execution_count": 57,
   "id": "2672137c-d3b7-407c-b3ca-d90e7588cb37",
   "metadata": {},
   "outputs": [],
   "source": [
    "#set directory\n",
    "save_folder = './images/'\n",
    "\n",
    "#check if the directory already exists\n",
    "if os.path.exists(save_folder):\n",
    "    #if the directory exists, delete \n",
    "    shutil.rmtree(save_folder)\n",
    "#create directory\n",
    "os.makedirs(save_folder)"
   ]
  },
  {
   "cell_type": "code",
   "execution_count": 72,
   "id": "e50c2043-ebfc-48c4-8675-fd645930287c",
   "metadata": {},
   "outputs": [
    {
     "data": {
      "image/png": "[encoded data removed]",
      "text/plain": [
       "<Figure size 640x480 with 1 Axes>"
      ]
     },
     "metadata": {},
     "output_type": "display_data"
    }
   ],
   "source": [
    "#polygon list\n",
    "polygon = [(128.7, 36.6), (128.7, 37.6), (129.3, 37.6), (129.3, 36.6)]\n",
    "\n",
    "#add the first element to the end for polygon plot\n",
    "polygon = polygon + [polygon[0]]\n",
    "\n",
    "for n1, n2 in zip(xi,xj):\n",
    "    plt.plot([data.iloc[n1, -2],data.iloc[n2, -2]], [data.iloc[n1,-1],data.iloc[n2,-1]], '-.', c = 'blue')\n",
    "\n",
    "x_shift = -0.02 #longitudinal shift of annotations\n",
    "y_shift = 0.05 #latitudinal shift of annotations\n",
    "\n",
    "#scatter plot of cities with annotations\n",
    "for i in range(len(data.index)):\n",
    "    x_coord = data.iloc[i, -2]\n",
    "    y_coord = data.iloc[i, -1]\n",
    "    plt.scatter(x_coord, y_coord)\n",
    "    plt.annotate(i, (x_coord + x_shift, y_coord + y_shift))\n",
    "    \n",
    "#plt.plot([x for x,y in polygon], [y for x,y in polygon], '--', c = 'red', label = \"polygon\")\n",
    "\n",
    "plt.plot(data.iloc[unconstrained_path, -2], data.iloc[unconstrained_path, -1], \n",
    "         linewidth = 4, color = 'orange', label = \"shortest path\")\n",
    "plt.title(\"Unconstrained Pathway\")\n",
    "plt.legend()\n",
    "plt.savefig(\"./images/Unconstrained_Pathway.png\")\n",
    "plt.show()"
   ]
  },
  {
   "cell_type": "markdown",
   "id": "de62d231-8cc1-49c0-b8fc-08460011c767",
   "metadata": {},
   "source": [
    "# Constrained Path Plot"
   ]
  },
  {
   "cell_type": "code",
   "execution_count": 68,
   "id": "aefec357-6f7a-4544-9952-aa5bf82b90a6",
   "metadata": {},
   "outputs": [
    {
     "data": {
      "image/png": "[encoded data removed]",
      "text/plain": [
       "<Figure size 640x480 with 1 Axes>"
      ]
     },
     "metadata": {},
     "output_type": "display_data"
    }
   ],
   "source": [
    "#polygon list\n",
    "polygon = [(128.7, 36.6), (128.7, 37.6), (129.3, 37.6), (129.3, 36.6)]\n",
    "\n",
    "#add the first element to the end for polygon plot\n",
    "polygon = polygon + [polygon[0]]\n",
    "\n",
    "for n1, n2 in zip(xi,xj):\n",
    "    plt.plot([data.iloc[n1, -2],data.iloc[n2, -2]], [data.iloc[n1,-1],data.iloc[n2,-1]], '-.', c = 'blue')\n",
    "\n",
    "x_shift = -0.02 #longitudinal shift of annotations\n",
    "y_shift = 0.05 #latitudinal shift of annotations\n",
    "\n",
    "#scatter plot of cities with annotations\n",
    "for i in range(len(data.index)):\n",
    "    x_coord = data.iloc[i, -2]\n",
    "    y_coord = data.iloc[i, -1]\n",
    "    plt.scatter(x_coord, y_coord)\n",
    "    plt.annotate(i, (x_coord + x_shift, y_coord + y_shift))\n",
    "    \n",
    "plt.plot([x for x,y in polygon], [y for x,y in polygon], '--', c = 'red', label = \"polygon\")\n",
    "\n",
    "plt.plot(data.iloc[constrained_path, -2], data.iloc[constrained_path, -1], \n",
    "         linewidth = 4, color = 'orange', label = \"shortest path\")\n",
    "plt.title(\"Constrained Pathway\")\n",
    "\n",
    "plt.legend()\n",
    "plt.savefig(\"./images/Constrained_Pathway.png\")\n",
    "plt.show()"
   ]
  },
  {
   "cell_type": "markdown",
   "id": "4317ed5a-6087-449f-a87d-bb8f3d740bf8",
   "metadata": {},
   "source": [
    "# Reference"
   ]
  },
  {
   "cell_type": "markdown",
   "id": "d5bc8a9f-9d31-498a-8ca6-23cd39c90195",
   "metadata": {},
   "source": [
    "[1] (n.d.). How to find Shortest Paths from Source to all Vertices using Dijkstra’s Algorithm. GeeksForGeeks. Retrieved May 21, 2023, from https://www.geeksforgeeks.org/dijkstras-shortest-path-algorithm-greedy-algo-7/\n",
    "\n",
    "[2] The Shapely User Manual — Shapely 2.0.1 documentation. (n.d.). https://shapely.readthedocs.io/en/stable/manual.html"
   ]
  }
 ],
 "metadata": {
  "kernelspec": {
   "display_name": "Python 3 (ipykernel)",
   "language": "python",
   "name": "python3"
  },
  "language_info": {
   "codemirror_mode": {
    "name": "ipython",
    "version": 3
   },
   "file_extension": ".py",
   "mimetype": "text/x-python",
   "name": "python",
   "nbconvert_exporter": "python",
   "pygments_lexer": "ipython3",
   "version": "3.10.9"
  }
 },
 "nbformat": 4,
 "nbformat_minor": 5
}
